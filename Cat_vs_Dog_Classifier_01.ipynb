{
  "cells": [
    {
      "cell_type": "markdown",
      "metadata": {
        "id": "view-in-github",
        "colab_type": "text"
      },
      "source": [
        "<a href=\"https://colab.research.google.com/github/ShannonH98/PyTorch_Practice_Projects/blob/main/Cat_vs_Dog_Classifier_01.ipynb\" target=\"_parent\"><img src=\"https://colab.research.google.com/assets/colab-badge.svg\" alt=\"Open In Colab\"/></a>"
      ]
    },
    {
      "cell_type": "code",
      "execution_count": null,
      "metadata": {
        "id": "C3GinybxuHgD"
      },
      "outputs": [],
      "source": [
        "import torch"
      ]
    },
    {
      "cell_type": "code",
      "execution_count": null,
      "metadata": {
        "id": "4qgetsxeusHu"
      },
      "outputs": [],
      "source": [
        "import kagglehub\n",
        "\n",
        "# Download latest version\n",
        "path = kagglehub.dataset_download(\"samuelcortinhas/cats-and-dogs-image-classification\")\n",
        "\n",
        "print(\"Path to dataset files:\", path)"
      ]
    },
    {
      "cell_type": "code",
      "execution_count": null,
      "metadata": {
        "id": "MGd8SMBDuy-o"
      },
      "outputs": [],
      "source": [
        "import torch\n",
        "from torchvision import transforms\n",
        "import torch.nn as nn\n",
        "import torch.optim as optim\n",
        "from torch.utils.data import DataLoader, TensorDataset\n",
        "from torchvision import models\n",
        "from PIL import Image\n",
        "import os\n",
        "import numpy as np\n",
        "import matplotlib.pyplot as plt\n",
        "import cv2"
      ]
    },
    {
      "cell_type": "code",
      "execution_count": null,
      "metadata": {
        "id": "prbn0yDNu1-Y"
      },
      "outputs": [],
      "source": [
        "# Image preprocessing\n",
        "transform = transforms.Compose([\n",
        "    transforms.Resize((224, 224)), # resize image to 224x224\n",
        "    transforms.Lambda(lambda img: img.convert(\"RGB\")), # convert all images to RGB\n",
        "    transforms.ToTensor(), # image normalization to tensor values from 0 to 1\n",
        "])\n",
        "\n",
        "# Load and transform images from a folder\n",
        "def load_images_from_folder(folder):\n",
        "    images = []\n",
        "    for filename in os.listdir(folder):\n",
        "        if filename.endswith(\".jpg\"): # extract all jpg files\n",
        "            img_path = os.path.join(folder, filename)\n",
        "            img = Image.open(img_path)\n",
        "            img = transform(img) # image processing\n",
        "            images.append(img)\n",
        "    return torch.stack(images) # stack all images as a tensor for vectorization\n",
        "\n",
        "# Load path to my data (folder is subdivided into two folders of train and tesr)\n",
        "base_path = path # put your file directory from google drive\n",
        "\n",
        "# For train set (train folder is subdivided into two folders of cats and dogs)\n",
        "train_cats_path = os.path.join(base_path, \"train/cats\")\n",
        "train_dogs_path = os.path.join(base_path, \"train/dogs\")\n",
        "\n",
        "# For test set (train folder is subdivided into two folders of cats and dogs)\n",
        "test_cats_path = os.path.join(base_path, \"test/cats\")\n",
        "test_dogs_path = os.path.join(base_path, \"test/dogs\")\n",
        "\n",
        "# Load tensors for train and test sets\n",
        "train_cats_tensors = load_images_from_folder(train_cats_path)\n",
        "train_dogs_tensors = load_images_from_folder(train_dogs_path)\n",
        "test_cats_tensors = load_images_from_folder(test_cats_path)\n",
        "test_dogs_tensors = load_images_from_folder(test_dogs_path)\n",
        "\n",
        "# Create labels (0 for cat and 1 for dog)\n",
        "train_labels = torch.cat([torch.zeros(train_cats_tensors.size(0)), torch.ones(train_dogs_tensors.size(0))])\n",
        "test_labels = torch.cat([torch.zeros(test_cats_tensors.size(0)), torch.ones(test_dogs_tensors.size(0))])\n",
        "\n",
        "# Concatenate cats and dogs tensor for train and test sets as well as their labels\n",
        "train_dataset = TensorDataset(torch.cat([train_cats_tensors, train_dogs_tensors]), train_labels)\n",
        "test_dataset = TensorDataset(torch.cat([test_cats_tensors, test_dogs_tensors]), test_labels)\n",
        "\n",
        "# Create DataLoaders\n",
        "train_loader = DataLoader(train_dataset, batch_size=32, shuffle=True)\n",
        "test_loader = DataLoader(test_dataset, batch_size=32, shuffle=False)"
      ]
    },
    {
      "cell_type": "code",
      "source": [
        "import matplotlib.pyplot as plt\n",
        "\n",
        "# Count images in each split\n",
        "train_cats_count = train_cats_tensors.size(0)\n",
        "train_dogs_count = train_dogs_tensors.size(0)\n",
        "test_cats_count = test_cats_tensors.size(0)\n",
        "test_dogs_count = test_dogs_tensors.size(0)\n",
        "\n",
        "# Data for bar chart\n",
        "categories = [\"Train Cats\", \"Train Dogs\", \"Test Cats\", \"Test Dogs\"]\n",
        "counts = [train_cats_count, train_dogs_count, test_cats_count, test_dogs_count]\n",
        "\n",
        "# Plot bar chart\n",
        "plt.figure(figsize=(8,6))\n",
        "plt.bar(categories, counts, color=[\"orange\", \"blue\", \"orange\", \"blue\"])\n",
        "plt.title(\"Number of Images in Train and Test Datasets\")\n",
        "plt.xlabel(\"Dataset Split\")\n",
        "plt.ylabel(\"Image Count\")\n",
        "plt.show()"
      ],
      "metadata": {
        "id": "5Bw-S4G2frVJ"
      },
      "execution_count": null,
      "outputs": []
    },
    {
      "cell_type": "code",
      "source": [
        "import random\n",
        "from PIL import Image\n",
        "import glob\n",
        "from pathlib import Path\n",
        "\n",
        "# Set seed\n",
        "#random.seed(42)\n",
        "\n",
        "# 1. Get all image paths (* means \"any combination\")\n",
        "image_path_list= glob.glob(f\"{path}/*/*/*.jpg\")\n",
        "\n",
        "# 2. Get random image path\n",
        "random_image_path = random.choice(image_path_list)\n",
        "\n",
        "# 3. Get image class from path name (the image class is the name of the directory where the image is stored)\n",
        "image_class = Path(random_image_path).parent.stem\n",
        "\n",
        "# 4. Open image\n",
        "img = Image.open(random_image_path)\n",
        "\n",
        "# 5. Print metadata\n",
        "print(f\"Random image path: {random_image_path}\")\n",
        "print(f\"Image class: {image_class}\")\n",
        "print(f\"Image height: {img.height}\")\n",
        "print(f\"Image width: {img.width}\")\n",
        "img"
      ],
      "metadata": {
        "id": "LNiNdTzPeN5m"
      },
      "execution_count": null,
      "outputs": []
    },
    {
      "cell_type": "code",
      "execution_count": null,
      "metadata": {
        "id": "S_5ffkjfvDxA"
      },
      "outputs": [],
      "source": [
        "# Load pretrained ResNet-50 model\n",
        "model = models.resnet50(pretrained=True)\n",
        "\n",
        "# Freeze convolutional layers\n",
        "for param in model.parameters():\n",
        "    param.requires_grad = False\n",
        "\n",
        "# Modify the fully connected layer for binary classification\n",
        "num_features = model.fc.in_features\n",
        "model.fc = nn.Sequential(\n",
        "    nn.Linear(num_features, 1),  # Change output to 1 feature for binary classification\n",
        "    nn.Sigmoid()  # Apply sigmoid to get probabilities\n",
        ")\n",
        "\n",
        "# Move model to GPU\n",
        "device = torch.device(\"cuda\" if torch.cuda.is_available() else \"cpu\")\n",
        "model = model.to(device)\n",
        "\n",
        "# Define loss function and optimizer\n",
        "criterion = nn.BCELoss()\n",
        "optimizer = optim.Adam(model.fc.parameters(), lr=0.0005)"
      ]
    },
    {
      "cell_type": "code",
      "source": [
        "model"
      ],
      "metadata": {
        "id": "gjFnOvv4isih"
      },
      "execution_count": null,
      "outputs": []
    },
    {
      "cell_type": "code",
      "execution_count": null,
      "metadata": {
        "id": "6s6VIIEmvFt2"
      },
      "outputs": [],
      "source": [
        "# Lists to store accuracy for each epoch\n",
        "train_accuracies = []\n",
        "test_accuracies = []\n",
        "\n",
        "# Training loop\n",
        "num_epochs = 20\n",
        "for epoch in range(num_epochs):\n",
        "    model.train()\n",
        "    running_loss = 0.0\n",
        "    correct_train = 0\n",
        "    total_train = 0\n",
        "\n",
        "    for inputs, labels in train_loader:\n",
        "        inputs, labels = inputs.to(device), labels.to(device).unsqueeze(1)\n",
        "\n",
        "        # Zero the parameter gradients\n",
        "        optimizer.zero_grad()\n",
        "\n",
        "        # Forward ppropagation\n",
        "        outputs = model(inputs)\n",
        "        loss = criterion(outputs, labels)\n",
        "\n",
        "        # Backward propagation\n",
        "        loss.backward()\n",
        "        optimizer.step()\n",
        "\n",
        "        running_loss += loss.item()\n",
        "\n",
        "        # Calculate accuracy on the train data\n",
        "        predicted = (outputs > 0.5).float()\n",
        "        total_train += labels.size(0)\n",
        "        correct_train += (predicted == labels).sum().item()\n",
        "\n",
        "    train_accuracy = 100*correct_train/total_train\n",
        "    train_accuracies.append(train_accuracy)\n",
        "\n",
        "    # Evaluate on test set\n",
        "    model.eval()\n",
        "    correct_test = 0\n",
        "    total_test = 0\n",
        "    with torch.no_grad():\n",
        "        for inputs, labels in test_loader:\n",
        "            inputs, labels = inputs.to(device), labels.to(device).unsqueeze(1)\n",
        "            outputs = model(inputs)\n",
        "            predicted = (outputs > 0.5).float()\n",
        "            total_test += labels.size(0)\n",
        "            correct_test += (predicted == labels).sum().item()\n",
        "\n",
        "    test_accuracy = 100 * correct_test / total_test\n",
        "    test_accuracies.append(test_accuracy)\n",
        "\n",
        "    print(f'Epoch [{epoch+1}/{num_epochs}], Loss: {running_loss/len(train_loader):.4f}, Train Accuracy: {train_accuracy:.2f}%, Test Accuracy: {test_accuracy:.2f}%')\n",
        "\n",
        "# Plotting training and testing accuracy\n",
        "plt.figure(figsize=(10, 5))\n",
        "plt.plot(range(1, num_epochs + 1), train_accuracies, label='Train Accuracy')\n",
        "plt.plot(range(1, num_epochs + 1), test_accuracies, label='Test Accuracy')\n",
        "plt.xlabel('Epoch')\n",
        "plt.ylabel('Accuracy (%)')\n",
        "plt.title('Training and Testing Accuracy')\n",
        "plt.legend()\n",
        "plt.grid(True)\n",
        "plt.show()"
      ]
    },
    {
      "cell_type": "code",
      "source": [
        "# Save the model\n",
        "import torch\n",
        "torch.save(model, \"cat vs dog.pth\")"
      ],
      "metadata": {
        "id": "I_K_74BKhBIT"
      },
      "execution_count": null,
      "outputs": []
    },
    {
      "cell_type": "code",
      "source": [],
      "metadata": {
        "id": "TzAJnlgxhWCc"
      },
      "execution_count": null,
      "outputs": []
    }
  ],
  "metadata": {
    "colab": {
      "provenance": [],
      "authorship_tag": "ABX9TyNwytV6yNVB/WJQqWRdFMGw",
      "include_colab_link": true
    },
    "kernelspec": {
      "display_name": "Python 3",
      "name": "python3"
    },
    "language_info": {
      "name": "python"
    }
  },
  "nbformat": 4,
  "nbformat_minor": 0
}